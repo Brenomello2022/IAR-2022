{
 "cells": [
  {
   "cell_type": "code",
   "execution_count": null,
   "metadata": {},
   "outputs": [],
   "source": [
    "!unzip imagens.zip -d imagens/\n",
    "\n",
    "import glob\n",
    "from sklearn.model_selection import train_test_split\n",
    "\n",
    "image_list = []\n",
    "class_list = []"
   ]
  },
  {
   "cell_type": "code",
   "execution_count": null,
   "metadata": {},
   "outputs": [],
   "source": [
    "for imagem in glob.glob('imagens/Palmeiras/*'):\n",
    "  print(imagem)\n",
    "  image_list.append(imagem)\n",
    "  class_list.append(0)\n",
    "for imagem in glob.glob('imagens/SP/*'):\n",
    "  print(imagem)\n",
    "  image_list.append(imagem)\n",
    "  class_list.append(1)"
   ]
  },
  {
   "cell_type": "code",
   "execution_count": null,
   "metadata": {},
   "outputs": [],
   "source": [
    "imagens_treino, imagens_teste, classes_treino, classes_teste = train_test_split(image_list, class_list, \n",
    "test_size=0.2, shuffle=True)\n",
    "\n",
    "print(len(imagens_treino))\n",
    "print(len(imagens_teste))\n",
    "\n",
    "lista_imagens = []\n",
    "lista_classes = []\n",
    "conta_classe = 0\n",
    "\n",
    "for pastas in glob.glob('imagens/*'):\n",
    "  for pasta in glob.glob(pastas + '/*'):\n",
    "    lista_imagens.append(imagem)\n",
    "    lista_classes.append(conta_classe)\n",
    "  conta_classe += 1\n",
    "print(len(lista_imagens), len(lista_classes))"
   ]
  },
  {
   "cell_type": "code",
   "execution_count": null,
   "metadata": {},
   "outputs": [],
   "source": [
    "imagens_treino, imagens_teste, classes_treino, classes_teste = train_test_split(lista_imagens, lista_classes, \n",
    "test_size=0.2, shuffle=True)\n",
    "\n",
    "print(len(imagens_treino))\n",
    "print(len(imagens_teste))\n",
    "\n",
    "!pip install sklearn"
   ]
  }
 ],
 "metadata": {
  "language_info": {
   "name": "python"
  },
  "orig_nbformat": 4
 },
 "nbformat": 4,
 "nbformat_minor": 2
}
