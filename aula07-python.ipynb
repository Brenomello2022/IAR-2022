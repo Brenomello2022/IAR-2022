{
 "cells": [
  {
   "cell_type": "code",
   "execution_count": null,
   "metadata": {},
   "outputs": [],
   "source": [
    "import cv2\n",
    "from google.colab.patches import cv2_imshow\n",
    "\n",
    "image = cv2.imread('grecia.jpg')\n",
    "cv2_imshow(image)"
   ]
  },
  {
   "cell_type": "code",
   "execution_count": null,
   "metadata": {},
   "outputs": [],
   "source": [
    "print('imagem original: ', image.shape)\n",
    "\n",
    "resized = cv2.resize(image, (112, 112), interpolation= cv2.INTER_AREA)\n",
    "cv2_imshow(resized)"
   ]
  },
  {
   "cell_type": "code",
   "execution_count": null,
   "metadata": {},
   "outputs": [],
   "source": [
    "scale = 60\n",
    "width = int(image.shape[1] * scale /100)\n",
    "height = int(image.shape[0] * scale / 100)\n",
    "print(width, height)\n",
    "\n",
    "resized = cv2.resize(image, (width, height), interpolation= cv2.INTER_AREA)\n",
    "\n",
    "print(resized.shape)\n",
    "\n",
    "cv2_imshow(resized)"
   ]
  },
  {
   "cell_type": "code",
   "execution_count": null,
   "metadata": {},
   "outputs": [],
   "source": [
    "image0 = cv2.flip(resized, 0)\n",
    "cv2_imshow(image0)\n",
    "\n",
    "image1 = cv2.flip(resized, 1)\n",
    "cv2_imshow(image1)\n",
    "\n",
    "image_1 = cv2.flip(resized, -1)\n",
    "cv2_imshow(image_1)"
   ]
  },
  {
   "cell_type": "code",
   "execution_count": null,
   "metadata": {},
   "outputs": [],
   "source": [
    "import numpy as np\n",
    "kernel = np.ones((5,5), np.float32)/25\n",
    "print(kernel)\n",
    "conv = cv2.filter2D(resized, -1, kernel)\n",
    "cv2_imshow(conv)"
   ]
  },
  {
   "cell_type": "code",
   "execution_count": null,
   "metadata": {},
   "outputs": [],
   "source": [
    "blur = cv2.GaussianBlur(resized, 9, (7,7), 25)\n",
    "cv2_imshow(blur)"
   ]
  },
  {
   "cell_type": "code",
   "execution_count": null,
   "metadata": {},
   "outputs": [],
   "source": [
    "bilateral = cv2.bilateralFilter(resized, 9, 75, 75)\n",
    "cv2_imshow(bilateral)"
   ]
  },
  {
   "cell_type": "code",
   "execution_count": null,
   "metadata": {},
   "outputs": [],
   "source": [
    "edge = cv2.Canny(resized, 100, 100)\n",
    "cv2_imshow(edge)"
   ]
  },
  {
   "cell_type": "code",
   "execution_count": null,
   "metadata": {},
   "outputs": [],
   "source": [
    "retangulo = resized\n",
    "retangulo = cv2.rectangle(retangulo, (50, 50), (100, 100), (0, 0, 250), 2)\n",
    "cv2_imshow(retangulo)"
   ]
  },
  {
   "cell_type": "code",
   "execution_count": null,
   "metadata": {},
   "outputs": [],
   "source": [
    "cv2_imshow(resized)\n",
    "circle = cv2.circle(resized, (200, 200), 20, (250, 0, 0), 2)\n",
    "cv2_imshow(circle)"
   ]
  },
  {
   "cell_type": "code",
   "execution_count": null,
   "metadata": {},
   "outputs": [],
   "source": [
    "import cv2\n",
    "from google.colab.patches import cv2_imshow\n",
    "\n",
    "image = cv2.imread('vinijr.jpg')\n",
    "cv2_imshow(image)"
   ]
  },
  {
   "cell_type": "code",
   "execution_count": null,
   "metadata": {},
   "outputs": [],
   "source": [
    "print('imagem original: ', image.shape)\n",
    "\n",
    "resized = cv2.resize(image, (112, 112), interpolation= cv2.INTER_AREA)\n",
    "cv2_imshow(resized)"
   ]
  },
  {
   "cell_type": "code",
   "execution_count": null,
   "metadata": {},
   "outputs": [],
   "source": [
    "retangulo = resized\n",
    "retangulo = cv2.rectangle(retangulo, (50, 50), (100, 100), (0, 0, 250), 2)\n",
    "cv2_imshow(retangulo)"
   ]
  },
  {
   "cell_type": "code",
   "execution_count": null,
   "metadata": {},
   "outputs": [],
   "source": [
    "cv2_imshow(resized)\n",
    "circle = cv2.circle(resized, (30,30), 100, (0, 0, 250), 0)\n",
    "cv2_imshow(circle)"
   ]
  }
 ],
 "metadata": {
  "language_info": {
   "name": "python"
  },
  "orig_nbformat": 4
 },
 "nbformat": 4,
 "nbformat_minor": 2
}
