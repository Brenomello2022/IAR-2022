{
 "cells": [
  {
   "cell_type": "code",
   "execution_count": null,
   "metadata": {},
   "outputs": [],
   "source": [
    "import cv2\n",
    "from google.colab.patches import cv2_imshow\n",
    "\n",
    "jogando = cv2.imread('messi.png')\n",
    "cv2_imshow(jogando)\n",
    "jogando_gray = cv2.cvtColor(jogando, cv2.COLOR_BGR2GRAY)\n",
    "\n",
    "template = cv2.imread('messi_face.jpg')\n",
    "template_gray = cv2.cvtColor(template, cv2.COLOR_BGR2GRAY)\n",
    "cv2_imshow(template_gray)"
   ]
  },
  {
   "cell_type": "code",
   "execution_count": null,
   "metadata": {},
   "outputs": [],
   "source": [
    "resultado = cv2.matchTemplate(jogando_gray, template_gray, cv2.TM_CCOEFF_NORMED)\n",
    "#cv2_imshow(resultado)\n",
    "\n",
    "min_val, max_val, min_loc, max_loc = cv2.minMaxLoc(resultado)\n",
    "print(min_val, max_val, min_loc, max_loc)\n",
    "\n",
    "cv2.circle(jogando, max_loc, 7, (0, 0 ,255), 2)\n",
    "cv2.circle(jogando, min_loc, 7, (0, 255, 255), 2)\n",
    "cv2_imshow(jogando)"
   ]
  },
  {
   "cell_type": "code",
   "execution_count": null,
   "metadata": {},
   "outputs": [],
   "source": [
    "template_gray.shape\n",
    "ponto2 = (max_loc[0] + template_gray.shape[1], max_loc[1] + template_gray.shape[0])\n",
    "messi_loc = cv2.rectangle(jogando, max_loc, ponto2, (255, 0, 0), 2)\n",
    "cv2_imshow(messi_loc)"
   ]
  },
  {
   "cell_type": "code",
   "execution_count": null,
   "metadata": {},
   "outputs": [],
   "source": [
    "import cv2\n",
    "from google.colab.patches import cv2_imshow\n",
    "\n",
    "coin = cv2.imread('coin.png')\n",
    "cv2_imshow(coin)\n",
    "coin_gray = cv2.cvtColor(coin, cv2.COLOR_BGR2GRAY)\n",
    "\n",
    "mario = cv2.imread('mario.png')\n",
    "mario_gray = cv2.cvtColor(mario, cv2.COLOR_BGR2GRAY)\n",
    "cv2_imshow(mario_gray)"
   ]
  },
  {
   "cell_type": "code",
   "execution_count": null,
   "metadata": {},
   "outputs": [],
   "source": [
    "resultado = cv2.matchTemplate(coin_gray, mario_gray, cv2.TM_CCOEFF_NORMED)\n",
    "#cv2_imshow(resultado)\n",
    "\n",
    "min_val, max_val, min_loc, max_loc = cv2.minMaxLoc(resultado)\n",
    "print(min_val, max_val, min_loc, max_loc)\n",
    "\n",
    "cv2.circle(coin, max_loc, 7, (0, 0 ,255), 2)\n",
    "cv2.circle(coin, min_loc, 7, (0, 255, 255), 2)\n",
    "cv2_imshow(coin)"
   ]
  },
  {
   "cell_type": "code",
   "execution_count": null,
   "metadata": {},
   "outputs": [],
   "source": [
    "mario_gray.shape\n",
    "ponto2 = (max_loc[0] + mario_gray.shape[1], max_loc[1] + mario_gray.shape[0])\n",
    "mario_loc = cv2.rectangle(coin, max_loc, ponto2, (255, 0, 0), 2)\n",
    "cv2_imshow(mario_loc)"
   ]
  },
  {
   "cell_type": "code",
   "execution_count": null,
   "metadata": {},
   "outputs": [],
   "source": [
    "import numpy as np\n",
    "mario = cv2.imread('mario.png')\n",
    "mario_gray = cv2.cvtColor(mario, cv2.COLOR_BGR2GRAY)\n",
    "coin = cv2.imread('coin.png', 0)\n",
    "res = cv2.matchTemplate(mario_gray, coin, cv2.TM_CCOEFF_NORMED)\n",
    "loc = np.where(res > 0.8)\n",
    "for ponto in zip(*loc[::-1]):\n",
    "  # print(ponto)\n",
    "  cv2.rectangle(mario, ponto, (ponto[0] + coin.shape[1], ponto[1] + coin.shape[0]), (0,0,255), 2)\n",
    "cv2_imshow(mario)"
   ]
  },
  {
   "cell_type": "code",
   "execution_count": null,
   "metadata": {},
   "outputs": [],
   "source": [
    "moedas = cv2.imread('moeda.jpg', 0)\n",
    "cv2_imshow(moedas)\n",
    "moedas.shape\n",
    "circles = cv2.HoughCircles(moedas, cv2.HOUGH_GRADIENT, 1, minDist = 100, param1 = 80, param2 = 30)\n",
    "print(circles)"
   ]
  },
  {
   "cell_type": "code",
   "execution_count": null,
   "metadata": {},
   "outputs": [],
   "source": [
    "for circle in circles[0]:\n",
    "  print(circle)\n",
    "  cv2.circle(moedas, (int(circle[0]), int(circle[1])), int(circle[2]), (0, 0, 255), 2)\n",
    "cv2_imshow(moedas)"
   ]
  }
 ],
 "metadata": {
  "language_info": {
   "name": "python"
  },
  "orig_nbformat": 4
 },
 "nbformat": 4,
 "nbformat_minor": 2
}
