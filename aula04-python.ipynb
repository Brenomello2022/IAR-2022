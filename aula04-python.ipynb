{
 "cells": [
  {
   "cell_type": "code",
   "execution_count": null,
   "metadata": {},
   "outputs": [],
   "source": [
    "import numpy as np\n",
    "\n",
    "s = np.random.uniform(0, 10, 10)\n",
    "\n",
    "x = np.random.uniform(0, 10, 10)\n",
    "\n",
    "matriz = np.dstack((s, x))\n",
    "matriz[0]\n",
    "\n",
    "nCluster = 10\n",
    "wc = []"
   ]
  },
  {
   "cell_type": "code",
   "execution_count": null,
   "metadata": {},
   "outputs": [],
   "source": [
    "for i in range(nCluster):\n",
    "  i +=1\n",
    "  kmeans = KMeans(i)\n",
    "  kmeans.fit(matriz[0])\n",
    "\n",
    "  print(' Clusters: ', i, ' w(c): ' ,kmeans.inertia_)\n",
    "  wc.append(kmeans.inertia_)\n",
    "\n",
    "import matplotlib.pyplot as plt\n",
    "plt.plot(range(1, 11), wc)\n",
    "plt.show()\n",
    "\n",
    "kmeans = KMeans(4)\n",
    "kmeans.fit(matriz[0])"
   ]
  },
  {
   "cell_type": "code",
   "execution_count": null,
   "metadata": {},
   "outputs": [],
   "source": [
    "colors = ['g.', 'r.', 'b.', 'c.']\n",
    "\n",
    "colors = ['g.', 'r.', 'b.', 'c.']\n",
    "matriz = matriz[0]\n",
    "\n",
    "for i in range(len(matriz)):\n",
    "\n",
    "  plt.plot(matriz[i][0], matriz[i][1], colors[kmeans.labels_[i]], markersize=10)\n",
    "\n",
    "kmeans.labels_\n",
    "kmeans.cluster_centers_"
   ]
  }
 ],
 "metadata": {
  "language_info": {
   "name": "python"
  },
  "orig_nbformat": 4
 },
 "nbformat": 4,
 "nbformat_minor": 2
}
