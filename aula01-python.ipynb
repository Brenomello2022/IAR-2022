{
 "cells": [
  {
   "cell_type": "code",
   "execution_count": null,
   "metadata": {},
   "outputs": [],
   "source": [
    "Variavel1 = str(3) # string\n",
    "Variavel2 = 3 # inteiro\n",
    "Variavel3 = \"3\" # string\n",
    "Variavel4 = 3.5 # Float, double do java"
   ]
  },
  {
   "cell_type": "code",
   "execution_count": null,
   "metadata": {},
   "outputs": [],
   "source": [
    "print(type(Variavel1))\n",
    "print(type(Variavel2, Variavel2))\n",
    "print(type(Variavel3))\n",
    "print(type(Variavel4))"
   ]
  },
  {
   "cell_type": "code",
   "execution_count": null,
   "metadata": {},
   "outputs": [],
   "source": [
    "nome = \"Breno\""
   ]
  },
  {
   "cell_type": "code",
   "execution_count": null,
   "metadata": {},
   "outputs": [],
   "source": [
    "print(nome[0])\n",
    "print(nome[0,3])"
   ]
  },
  {
   "cell_type": "code",
   "execution_count": null,
   "metadata": {},
   "outputs": [],
   "source": [
    "\n",
    "varBoolean = False\n",
    "varBoolean2 = True"
   ]
  },
  {
   "cell_type": "code",
   "execution_count": null,
   "metadata": {},
   "outputs": [],
   "source": [
    "print(varBoolean, \" - \" , =varBoolean2)"
   ]
  },
  {
   "cell_type": "code",
   "execution_count": null,
   "metadata": {},
   "outputs": [],
   "source": [
    "seuNome = \"Breno\"\n",
    "seuEmail = \"meuemail@email.com\""
   ]
  },
  {
   "cell_type": "code",
   "execution_count": null,
   "metadata": {},
   "outputs": [],
   "source": [
    "print(seuNome[5])\n",
    "print(len(seuNome))\n",
    "print(seuEmail.split('@'))"
   ]
  },
  {
   "cell_type": "code",
   "execution_count": null,
   "metadata": {},
   "outputs": [],
   "source": [
    "nome = \"Breno\"\n",
    "idade = 20\n",
    "sobrenome = \"de Mello\"\n",
    "nomeCompleto = nome + \" \" + sobrenome\n",
    "print(nomeCompleto)"
   ]
  },
  {
   "cell_type": "code",
   "execution_count": null,
   "metadata": {},
   "outputs": [],
   "source": [
    "\"{} {}, {}\", format(nome, sobrenome, idade)"
   ]
  },
  {
   "cell_type": "code",
   "execution_count": null,
   "metadata": {},
   "outputs": [],
   "source": [
    "if nome == \"breno\":\n",
    "    print(nome)\n"
   ]
  },
  {
   "cell_type": "code",
   "execution_count": null,
   "metadata": {},
   "outputs": [],
   "source": [
    "if idade < 18\n",
    "    print('menor de idade')\n",
    "else\n",
    "    print('maior de idade')"
   ]
  },
  {
   "cell_type": "code",
   "execution_count": null,
   "metadata": {},
   "outputs": [],
   "source": [
    "texto = \"Eu amo java, e Java é o melhor\"\n",
    "texto.replace(\"Java\", \"Python)"
   ]
  },
  {
   "cell_type": "code",
   "execution_count": null,
   "metadata": {},
   "outputs": [],
   "source": [
    "text.find(\"amo\")\n",
    "text.upper()\n",
    "text.lower()\n"
   ]
  },
  {
   "cell_type": "code",
   "execution_count": null,
   "metadata": {},
   "outputs": [],
   "source": [
    "cores = ['amarelo', 'verde', 'vermelho']\n",
    "cores.append('preto')\n",
    "print(cores)\n",
    "print(len(cores))\n",
    "cores[3] = 'azul'\n",
    "print(cores)"
   ]
  },
  {
   "cell_type": "code",
   "execution_count": null,
   "metadata": {},
   "outputs": [],
   "source": [
    "cores.append(['banana', 'uva'])\n",
    "print(cores)"
   ]
  },
  {
   "cell_type": "code",
   "execution_count": null,
   "metadata": {},
   "outputs": [],
   "source": [
    "frutas = ['banana', 'uva', 'pera']\n",
    "frutas.remove('pera')\n",
    "frutas.pop(0)\n",
    "print(frutas)\n"
   ]
  },
  {
   "cell_type": "code",
   "execution_count": null,
   "metadata": {},
   "outputs": [],
   "source": [
    "minha_tupla = ('banana', 'pera', 'uva')\n",
    "print(minha_tupla)"
   ]
  },
  {
   "cell_type": "code",
   "execution_count": null,
   "metadata": {},
   "outputs": [],
   "source": [
    "meu_dicionario = {\n",
    "    'nome': 'Breno',\n",
    "    'sobrenome: 'de Mello',\n",
    "    'idade': 22,\n",
    "    'semestre': ['materia1, materia2, materia3],\n",
    "    'gostos': frutas\n",
    "}\n",
    "print(meu_dicionario)"
   ]
  },
  {
   "cell_type": "code",
   "execution_count": null,
   "metadata": {},
   "outputs": [],
   "source": [
    "meu_dicionario['idade']"
   ]
  },
  {
   "cell_type": "code",
   "execution_count": null,
   "metadata": {},
   "outputs": [],
   "source": [
    "lista_de_numeros = [1, 7, 23, 5, 80, 6]\n",
    "max(lista_de_numeros)\n",
    "len(lista_de_numeros)\n",
    "nin(lista_de_numeros)\n",
    "sum(lista_de_numeros)"
   ]
  },
  {
   "cell_type": "code",
   "execution_count": null,
   "metadata": {},
   "outputs": [],
   "source": [
    "import numpy\n",
    "\n",
    "numpy.mean(lista_de_numeros)"
   ]
  },
  {
   "cell_type": "code",
   "execution_count": null,
   "metadata": {},
   "outputs": [],
   "source": [
    "if meu_dicionario['idade'] < 18 and meu_dicionario['idade'] == 18:\n",
    "    print('maior de idade')\n",
    "\n",
    "if meu_dicionario['idade'] < 18 or (meu_dicionario['idade'] + 3 == 18):   \n",
    "    print('maior de idade')"
   ]
  },
  {
   "cell_type": "code",
   "execution_count": null,
   "metadata": {},
   "outputs": [],
   "source": [
    "def soma_valores('valor1' 'valor2'):\n",
    "    resultado = valor1 + valor2\n",
    "    return resultado\n",
    "soma_valores(1, 2)\n",
    "\n",
    "def soma_multi(valor1, valor2, multiplicador=None):\n",
    "    if multiplicador:\n",
    "       return (valor1 + valor2) * multiplicador\n",
    "    else:\n",
    "       return valor1 + valor2\n",
    "\n",
    "soma_multi(1, 2)\n",
    "\n",
    "def calcula_freelance(horas, valor, taxas=None):\n",
    "    total = horas * valor\n",
    "    if taxas:\n",
    "       return total + taxas\n",
    "    return total\n",
    "\n",
    "calcula_freelance(5, 40, 15)\n",
    "\n",
    "def tabuada(valor):\n",
    "    if valor >= 1 and valor <= 9\n",
    "    for i in range(0, 11):\n",
    "       print(1* valor)\n",
    "    else:\n",
    "       print('valor invalido')\n",
    "\n",
    "tabuada(2) "
   ]
  }
 ],
 "metadata": {
  "language_info": {
   "name": "python"
  },
  "orig_nbformat": 4
 },
 "nbformat": 4,
 "nbformat_minor": 2
}
