{
 "cells": [
  {
   "cell_type": "code",
   "execution_count": null,
   "metadata": {},
   "outputs": [],
   "source": [
    "import pandas as pd\n",
    "import numpy as np\n",
    "from sklearn.cluster import KMeans\n",
    "from sklearn.metrics import classification_report\n",
    "\n",
    "dataset = pd.read.csv('iris_csv.csv')\n",
    "\n",
    "classes = dataset.drop(columns=['class'])\n",
    "\n",
    "print(classes)"
   ]
  },
  {
   "cell_type": "code",
   "execution_count": null,
   "metadata": {},
   "outputs": [],
   "source": [
    "x = np.random.uniform(0, 1, 100)\n",
    "y = np.random.uniform(0, 1, 100)\n",
    "z = np.random.uniform(0, 1, 100)\n",
    "\n",
    "for i in range (len(dataset)):\n",
    "  print(dataset.iloc[i])\n",
    "\n",
    "  matriz = np.dstack(x, y, z)\n",
    "print(matriz)"
   ]
  },
  {
   "cell_type": "code",
   "execution_count": null,
   "metadata": {},
   "outputs": [],
   "source": [
    "dataset['sepallength']\n",
    "dataset['sepalwidth']\n",
    "dataset['petallength']\n",
    "dataset['petalwidth']\n",
    "\n",
    "matriz = np.dstack\n",
    "print(matriz)\n",
    "\n",
    "classes = dataset['class']"
   ]
  },
  {
   "cell_type": "code",
   "execution_count": null,
   "metadata": {},
   "outputs": [],
   "source": [
    "classes[classes == 'Iris-setosa'] = 0\n",
    "classes[classes == 'Iris-versicolor'] = 1\n",
    "classes[classes == 'Iris-virginica'] = 2\n",
    "\n",
    "classes = classes.values.astype(int)\n",
    "\n",
    "print (classification_report(classes, kmeans.labels_, target_names = ['Iris-setosa', 'Iris-versicolor', 'Iris-virginica']))"
   ]
  }
 ],
 "metadata": {
  "language_info": {
   "name": "python"
  },
  "orig_nbformat": 4
 },
 "nbformat": 4,
 "nbformat_minor": 2
}
