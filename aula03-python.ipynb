{
 "cells": [
  {
   "cell_type": "code",
   "execution_count": null,
   "metadata": {},
   "outputs": [],
   "source": [
    "import matplotlib.pyplot as plt\n",
    "import numpy as np\n",
    "from sklearn.cluster import KMeans\n",
    "import random\n",
    "\n",
    "X = []\n",
    "xSize = 500\n",
    "clusters = 7"
   ]
  },
  {
   "cell_type": "code",
   "execution_count": null,
   "metadata": {},
   "outputs": [],
   "source": [
    "for i in range(xSize):\n",
    "  a = round(random.uniform(0, 10), 1)\n",
    "  b = round(random.uniform(0, 10), 1)\n",
    "  X.append([a, b])\n",
    "\n",
    "np.save('dataset.npy', X)\n",
    "X = np.load('dataset.npy')\n",
    "\n",
    "Wc = []\n",
    "\n",
    "for i in range(1, 11):\n",
    "  kmeans = KMeans(n_clusters = i)\n",
    "  kmeans.fit(X)\n",
    "  \n",
    "  print('Clusters: ', i, 'W(c): ', kmeans.inertia_)\n",
    "  Wc.append(kmeans.inertia_)"
   ]
  },
  {
   "cell_type": "code",
   "execution_count": null,
   "metadata": {},
   "outputs": [],
   "source": [
    "centroids = kmeans.cluster_centers_\n",
    "nomes = kmeans.labels_\n",
    "print(centroids)\n",
    "print(nomes)\n",
    "\n",
    "colors = ['g.', 'r.', 'c.', 'b.', 'y.', 'k.', 'm.', 'goldenrod', 'violet', 'olive']\n",
    "\n",
    "for i in range(len(X)):\n",
    "  print(\"coordenada do objeto: \", X[i], \"nome do cluster (label):\", nomes[i])\n",
    "  plt.plot(X[i][0], X[i][1], colors[nomes[i]], markersize=10)\n",
    "\n",
    "for centroid in centroids:\n",
    "  \n",
    "  plt.scatter(centroid[0], centroid[1], marker= \"X\")\n",
    "\n",
    "plt.show()"
   ]
  }
 ],
 "metadata": {
  "language_info": {
   "name": "python"
  },
  "orig_nbformat": 4
 },
 "nbformat": 4,
 "nbformat_minor": 2
}
